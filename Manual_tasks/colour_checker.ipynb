{
 "cells": [
  {
   "cell_type": "code",
   "execution_count": null,
   "metadata": {},
   "outputs": [
    {
     "name": "stderr",
     "output_type": "stream",
     "text": [
      "Lossy conversion from float64 to uint8. Range [0, 1]. Convert image to uint8 prior to saving to suppress this warning.\n",
      "Lossy conversion from float64 to uint8. Range [0, 1]. Convert image to uint8 prior to saving to suppress this warning.\n"
     ]
    },
    {
     "name": "stdout",
     "output_type": "stream",
     "text": [
      "Original image shape for frame_0013.jpg: (1340, 1350)\n",
      "Corrected image saved to path_to_output_folder/frame_0013.jpg\n",
      "Original image shape for frame_0048.jpg: (1340, 1350)\n",
      "Corrected image saved to path_to_output_folder/frame_0048.jpg\n"
     ]
    },
    {
     "name": "stderr",
     "output_type": "stream",
     "text": [
      "Lossy conversion from float64 to uint8. Range [0, 1]. Convert image to uint8 prior to saving to suppress this warning.\n",
      "Lossy conversion from float64 to uint8. Range [0, 1]. Convert image to uint8 prior to saving to suppress this warning.\n"
     ]
    },
    {
     "name": "stdout",
     "output_type": "stream",
     "text": [
      "Original image shape for frame_0051.jpg: (1340, 1350)\n",
      "Corrected image saved to path_to_output_folder/frame_0051.jpg\n",
      "Original image shape for frame_0015.jpg: (1340, 1350)\n",
      "Corrected image saved to path_to_output_folder/frame_0015.jpg\n",
      "Original image shape for frame_0047.jpg: (1340, 1350)\n"
     ]
    },
    {
     "name": "stderr",
     "output_type": "stream",
     "text": [
      "Lossy conversion from float64 to uint8. Range [0, 1]. Convert image to uint8 prior to saving to suppress this warning.\n",
      "Lossy conversion from float64 to uint8. Range [0, 1]. Convert image to uint8 prior to saving to suppress this warning.\n",
      "Lossy conversion from float64 to uint8. Range [0, 1]. Convert image to uint8 prior to saving to suppress this warning.\n"
     ]
    },
    {
     "name": "stdout",
     "output_type": "stream",
     "text": [
      "Corrected image saved to path_to_output_folder/frame_0047.jpg\n",
      "Original image shape for frame_0046.jpg: (1340, 1350)\n",
      "Corrected image saved to path_to_output_folder/frame_0046.jpg\n",
      "Original image shape for frame_0020.jpg: (1340, 1350)\n"
     ]
    },
    {
     "name": "stderr",
     "output_type": "stream",
     "text": [
      "Lossy conversion from float64 to uint8. Range [0, 1]. Convert image to uint8 prior to saving to suppress this warning.\n",
      "Lossy conversion from float64 to uint8. Range [0, 1]. Convert image to uint8 prior to saving to suppress this warning.\n"
     ]
    },
    {
     "name": "stdout",
     "output_type": "stream",
     "text": [
      "Corrected image saved to path_to_output_folder/frame_0020.jpg\n",
      "Original image shape for frame_0045.jpg: (1340, 1350)\n",
      "Corrected image saved to path_to_output_folder/frame_0045.jpg\n",
      "Original image shape for frame_0017.jpg: (1340, 1350)\n",
      "Corrected image saved to path_to_output_folder/frame_0017.jpg\n"
     ]
    },
    {
     "name": "stderr",
     "output_type": "stream",
     "text": [
      "Lossy conversion from float64 to uint8. Range [0, 1]. Convert image to uint8 prior to saving to suppress this warning.\n",
      "Lossy conversion from float64 to uint8. Range [0, 1]. Convert image to uint8 prior to saving to suppress this warning.\n",
      "Lossy conversion from float64 to uint8. Range [0, 1]. Convert image to uint8 prior to saving to suppress this warning.\n"
     ]
    },
    {
     "name": "stdout",
     "output_type": "stream",
     "text": [
      "Original image shape for frame_0049.jpg: (1340, 1350)\n",
      "Corrected image saved to path_to_output_folder/frame_0049.jpg\n",
      "Original image shape for frame_0018.jpg: (1340, 1350)\n",
      "Corrected image saved to path_to_output_folder/frame_0018.jpg\n",
      "Original image shape for frame_0050.jpg: (1340, 1350)\n"
     ]
    },
    {
     "name": "stderr",
     "output_type": "stream",
     "text": [
      "Lossy conversion from float64 to uint8. Range [0, 1]. Convert image to uint8 prior to saving to suppress this warning.\n",
      "Lossy conversion from float64 to uint8. Range [0, 1]. Convert image to uint8 prior to saving to suppress this warning.\n"
     ]
    },
    {
     "name": "stdout",
     "output_type": "stream",
     "text": [
      "Corrected image saved to path_to_output_folder/frame_0050.jpg\n",
      "Original image shape for frame_0043.jpg: (1340, 1350)\n",
      "Corrected image saved to path_to_output_folder/frame_0043.jpg\n",
      "Original image shape for frame_0016.jpg: (1340, 1350)\n",
      "Corrected image saved to path_to_output_folder/frame_0016.jpg\n"
     ]
    },
    {
     "name": "stderr",
     "output_type": "stream",
     "text": [
      "Lossy conversion from float64 to uint8. Range [0, 1]. Convert image to uint8 prior to saving to suppress this warning.\n",
      "Lossy conversion from float64 to uint8. Range [0, 1]. Convert image to uint8 prior to saving to suppress this warning.\n",
      "Lossy conversion from float64 to uint8. Range [0, 1]. Convert image to uint8 prior to saving to suppress this warning.\n"
     ]
    },
    {
     "name": "stdout",
     "output_type": "stream",
     "text": [
      "Original image shape for frame_0019.jpg: (1340, 1350)\n",
      "Corrected image saved to path_to_output_folder/frame_0019.jpg\n",
      "Original image shape for frame_0044.jpg: (1340, 1350)\n",
      "Corrected image saved to path_to_output_folder/frame_0044.jpg\n",
      "Original image shape for frame_0014.jpg: (1340, 1350)\n"
     ]
    },
    {
     "name": "stderr",
     "output_type": "stream",
     "text": [
      "Lossy conversion from float64 to uint8. Range [0, 1]. Convert image to uint8 prior to saving to suppress this warning.\n"
     ]
    },
    {
     "name": "stdout",
     "output_type": "stream",
     "text": [
      "Corrected image saved to path_to_output_folder/frame_0014.jpg\n",
      "Original image shape for frame_0012.jpg: (1340, 1350)\n",
      "Corrected image saved to path_to_output_folder/frame_0012.jpg\n"
     ]
    }
   ],
   "source": [
    "\n",
    "import os\n",
    "import cv2\n",
    "from skimage.color import rgb2gray\n",
    "from skimage.io import imsave\n",
    "\n",
    "def preprocess_images_in_folder(input_folder, output_folder, min_size=7):\n",
    "    \"\"\"\n",
    "    Preprocess all images in a folder to ensure they meet the minimum size requirements.\n",
    "    Saves the corrected images to the specified output folder.\n",
    "    \n",
    "    Args:\n",
    "    - input_folder: Path to the folder containing input images.\n",
    "    - output_folder: Path to the folder to save corrected images.\n",
    "    - min_size: Minimum size for width and height of the images.\n",
    "    \"\"\"\n",
    "    # Ensure the output folder exists\n",
    "    os.makedirs(output_folder, exist_ok=True)\n",
    "    \n",
    "    # Iterate through all files in the input folder\n",
    "    for filename in os.listdir(input_folder):\n",
    "        input_path = os.path.join(input_folder, filename)\n",
    "        \n",
    "        # Skip non-image files\n",
    "        if not (filename.endswith('.jpg') or filename.endswith('.png') or filename.endswith('.jpeg')):\n",
    "            print(f\"Skipping non-image file: {filename}\")\n",
    "            continue\n",
    "        \n",
    "        # Read the image\n",
    "        image = cv2.imread(input_path)\n",
    "        if image is None:\n",
    "            print(f\"Failed to load image: {input_path}\")\n",
    "            continue\n",
    "        \n",
    "        # Convert to grayscale if needed\n",
    "        if len(image.shape) == 3:  # Check if multichannel\n",
    "            image_gray = rgb2gray(image)\n",
    "        else:\n",
    "            image_gray = image  # Already grayscale\n",
    "        \n",
    "        # Check the image dimensions\n",
    "        print(f\"Original image shape for {filename}: {image_gray.shape}\")\n",
    "        height, width = image_gray.shape[:2]\n",
    "        \n",
    "        # Resize if the image is smaller than the minimum size\n",
    "        if height < min_size or width < min_size:\n",
    "            print(f\"Resizing {filename} to minimum size {min_size}x{min_size}\")\n",
    "            image_gray = cv2.resize(image_gray, (max(min_size, width), max(min_size, height)))\n",
    "        \n",
    "        # Save the corrected image\n",
    "        output_path = os.path.join(output_folder, filename)\n",
    "        imsave(output_path, image_gray)\n",
    "        print(f\"Corrected image saved to {output_path}\")\n",
    "\n",
    "# Example usage\n",
    "input_folder = \"/path\"  # Replace with your input folder path\n",
    "output_folder = \"path_to_output_folder\"  # Replace with your output folder path\n",
    "preprocess_images_in_folder(input_folder, output_folder)\n"
   ]
  },
  {
   "cell_type": "code",
   "execution_count": null,
   "metadata": {},
   "outputs": [],
   "source": []
  }
 ],
 "metadata": {
  "kernelspec": {
   "display_name": "base",
   "language": "python",
   "name": "python3"
  },
  "language_info": {
   "codemirror_mode": {
    "name": "ipython",
    "version": 3
   },
   "file_extension": ".py",
   "mimetype": "text/x-python",
   "name": "python",
   "nbconvert_exporter": "python",
   "pygments_lexer": "ipython3",
   "version": "3.9.12"
  }
 },
 "nbformat": 4,
 "nbformat_minor": 2
}
