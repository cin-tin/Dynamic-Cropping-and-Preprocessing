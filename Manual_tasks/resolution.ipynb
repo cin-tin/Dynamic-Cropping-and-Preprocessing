{
 "cells": [
  {
   "cell_type": "code",
   "execution_count": null,
   "metadata": {},
   "outputs": [
    {
     "name": "stdout",
     "output_type": "stream",
     "text": [
      "Resolution of frame 10: 1080x1920\n"
     ]
    }
   ],
   "source": [
    "import cv2\n",
    "\n",
    "def get_video_frame_resolution(video_path, frame_number=0):\n",
    "    \"\"\"Retrieve the resolution (width x height) of a specific frame from a video.\"\"\"\n",
    "    cap = cv2.VideoCapture(video_path)\n",
    "\n",
    "    if not cap.isOpened():\n",
    "        raise ValueError(f\"Could not open video file: {video_path}\")\n",
    "    \n",
    "    # Set the frame position to the desired frame number\n",
    "    cap.set(cv2.CAP_PROP_POS_FRAMES, frame_number)\n",
    "    \n",
    "    ret, frame = cap.read()\n",
    "    if not ret:\n",
    "        raise ValueError(f\"Could not read frame {frame_number} from the video.\")\n",
    "    \n",
    "    height, width, _ = frame.shape\n",
    "    cap.release()\n",
    "    \n",
    "    return width, height\n",
    "\n",
    "# Example usage\n",
    "video_path = \"input\"\n",
    "resolution = get_video_frame_resolution(video_path, frame_number=10)  # Get the resolution of the 10th frame\n",
    "print(f\"Resolution of frame 10: {resolution[0]}x{resolution[1]}\")\n"
   ]
  },
  {
   "cell_type": "code",
   "execution_count": null,
   "metadata": {},
   "outputs": [
    {
     "name": "stdout",
     "output_type": "stream",
     "text": [
      "Resolution of the frame: 1080x1920\n"
     ]
    }
   ],
   "source": [
    "\n",
    "import cv2\n",
    "\n",
    "# Path to the frame (image)\n",
    "frame_path ='input'\n",
    "\n",
    "# Load the frame (image)\n",
    "frame = cv2.imread(frame_path)\n",
    "\n",
    "# Check if the frame was successfully loaded\n",
    "if frame is None:\n",
    "    print(\"Error: Cannot load the frame.\")\n",
    "else:\n",
    "    # Get the resolution (height and width)\n",
    "    height, width = frame.shape[:2]\n",
    "    print(f\"Resolution of the frame: {width}x{height}\")\n",
    "\n"
   ]
  },
  {
   "cell_type": "code",
   "execution_count": null,
   "metadata": {},
   "outputs": [],
   "source": []
  }
 ],
 "metadata": {
  "kernelspec": {
   "display_name": "base",
   "language": "python",
   "name": "python3"
  },
  "language_info": {
   "codemirror_mode": {
    "name": "ipython",
    "version": 3
   },
   "file_extension": ".py",
   "mimetype": "text/x-python",
   "name": "python",
   "nbconvert_exporter": "python",
   "pygments_lexer": "ipython3",
   "version": "3.9.12"
  }
 },
 "nbformat": 4,
 "nbformat_minor": 2
}
